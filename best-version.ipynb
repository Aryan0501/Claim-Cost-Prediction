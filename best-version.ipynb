{
 "cells": [
  {
   "cell_type": "code",
   "execution_count": 11,
   "metadata": {},
   "outputs": [
    {
     "name": "stdout",
     "output_type": "stream",
     "text": [
      "Mean of numclaims: 0.07312436447234626\n",
      "Variance of numclaims: 0.0784796313185289\n",
      "                 Generalized Linear Model Regression Results                  \n",
      "==============================================================================\n",
      "Dep. Variable:              numclaims   No. Observations:                22619\n",
      "Model:                            GLM   Df Residuals:                    22612\n",
      "Model Family:                 Poisson   Df Model:                            6\n",
      "Link Function:                    Log   Scale:                          1.0000\n",
      "Method:                          IRLS   Log-Likelihood:                -5886.6\n",
      "Date:                Thu, 16 Nov 2023   Deviance:                       8622.7\n",
      "Time:                        22:27:30   Pearson chi2:                 2.35e+04\n",
      "No. Iterations:                     6   Pseudo R-squ. (CS):            0.01534\n",
      "Covariance Type:            nonrobust                                         \n",
      "================================================================================\n",
      "                   coef    std err          z      P>|z|      [0.025      0.975]\n",
      "--------------------------------------------------------------------------------\n",
      "Intercept       -2.1941      1.554     -1.412      0.158      -5.241       0.853\n",
      "gender[T.M]     -0.0780      0.051     -1.539      0.124      -0.177       0.021\n",
      "exposure         1.5635      0.087     17.988      0.000       1.393       1.734\n",
      "veh_value        0.0079      0.023      0.344      0.731      -0.037       0.053\n",
      "agecat          -0.0885      0.018     -5.048      0.000      -0.123      -0.054\n",
      "veh_age          0.0090      0.028      0.323      0.747      -0.045       0.063\n",
      "credit_score    -0.0014      0.002     -0.581      0.561      -0.006       0.003\n",
      "================================================================================\n"
     ]
    }
   ],
   "source": [
    "import pandas as pd\n",
    "import numpy as np\n",
    "from statsmodels.formula.api import glm\n",
    "import statsmodels.api as sm\n",
    "\n",
    "# Load the training data\n",
    "train_data = pd.read_csv('InsNova_data_2023_train.csv/InsNova_data_2023_train.csv')\n",
    "\n",
    "# Check mean and variance of numclaims\n",
    "mean_numclaims = train_data['numclaims'].mean()\n",
    "var_numclaims = train_data['numclaims'].var()\n",
    "\n",
    "print(f\"Mean of numclaims: {mean_numclaims}\")\n",
    "print(f\"Variance of numclaims: {var_numclaims}\")\n",
    "\n",
    "# # Poisson regression model for Frequency\n",
    "# formula = 'numclaims ~ np.log(exposure) + agecat + area + veh_value + veh_age + veh_value:veh_age + area:veh_value'\n",
    "# frequency_model = glm(formula, data=train_data, family=sm.families.Poisson()).fit()\n",
    "\n",
    "formula = 'numclaims ~  exposure + veh_value + agecat + veh_age + gender + credit_score '\n",
    "frequency_model = glm(formula, data=train_data, family = sm.families.Poisson()).fit()\n",
    "\n",
    "# formula = 'numclaims ~  exposure + high_education_ind + agecat + credit_score '\n",
    "# frequency_model = glm(formula, data=train_data).fit()\n",
    "\n",
    "\n",
    "print(frequency_model.summary())\n"
   ]
  },
  {
   "cell_type": "code",
   "execution_count": 15,
   "metadata": {},
   "outputs": [
    {
     "name": "stdout",
     "output_type": "stream",
     "text": [
      "                 Generalized Linear Model Regression Results                  \n",
      "==============================================================================\n",
      "Dep. Variable:         avg_claim_cost   No. Observations:                 1542\n",
      "Model:                            GLM   Df Residuals:                     1535\n",
      "Model Family:         InverseGaussian   Df Model:                            6\n",
      "Link Function:                    log   Scale:                       0.0013533\n",
      "Method:                          IRLS   Log-Likelihood:                -12999.\n",
      "Date:                Thu, 16 Nov 2023   Deviance:                       1.9769\n",
      "Time:                        22:30:17   Pearson chi2:                     2.08\n",
      "No. Iterations:                    34   Pseudo R-squ. (CS):            0.01214\n",
      "Covariance Type:            nonrobust                                         \n",
      "================================================================================\n",
      "                   coef    std err          z      P>|z|      [0.025      0.975]\n",
      "--------------------------------------------------------------------------------\n",
      "Intercept        8.6544      2.515      3.441      0.001       3.725      13.583\n",
      "gender[T.M]      0.2744      0.094      2.932      0.003       0.091       0.458\n",
      "veh_age          0.0327      0.050      0.659      0.510      -0.065       0.130\n",
      "agecat          -0.0200      0.031     -0.644      0.520      -0.081       0.041\n",
      "veh_value       -0.0105      0.044     -0.237      0.813      -0.097       0.076\n",
      "exposure        -0.4521      0.168     -2.685      0.007      -0.782      -0.122\n",
      "credit_score    -0.0013      0.004     -0.327      0.744      -0.009       0.006\n",
      "================================================================================\n"
     ]
    },
    {
     "data": {
      "text/plain": [
       "''"
      ]
     },
     "execution_count": 15,
     "metadata": {},
     "output_type": "execute_result"
    }
   ],
   "source": [
    "# Inverse Gaussian model for Severity\n",
    "# Create a new column for the average claim cost\n",
    "#train_data_with_claims['avg_claim_cost'] = train_data_with_claims['claimcst0'] / train_data_with_claims['numclaims']\n",
    "\n",
    "#Inverse Gaussian model for Severity\n",
    "# severity_model = glm('avg_claim_cost ~ gender + veh_age + agecat', \n",
    "#                     data=train_data, \n",
    "#                     family=sm.families.InverseGaussian(link=sm.families.links.log())).fit()\n",
    "\n",
    "train_data['avg_claim_cost'] = train_data['claimcst0'] / train_data['numclaims']\n",
    "\n",
    "severity_model = glm('avg_claim_cost ~ gender + veh_age + agecat + veh_value + exposure + credit_score ', \n",
    "                     data=train_data, family=sm.families.InverseGaussian(link=sm.families.links.log())).fit()\n",
    "\n",
    "# severity_model = glm('avg_claim_cost ~  credit_score + max_power + veh_age', \n",
    "#                      data=train_data).fit()\n",
    "\n",
    "print(severity_model.summary())\n",
    "\"\"\n"
   ]
  },
  {
   "cell_type": "code",
   "execution_count": 16,
   "metadata": {},
   "outputs": [
    {
     "name": "stderr",
     "output_type": "stream",
     "text": [
      "C:\\Users\\ryane\\AppData\\Local\\Temp\\ipykernel_18316\\1342160008.py:6: DeprecationWarning: `np.float` is a deprecated alias for the builtin `float`. To silence this warning, use `float` by itself. Doing this will not modify any behavior and is safe. If you specifically wanted the numpy scalar type, use `np.float64` here.\n",
      "Deprecated in NumPy 1.20; for more details and guidance: https://numpy.org/devdocs/release/1.20.0-notes.html#deprecations\n",
      "  all = np.asarray(np.c_[actual, pred, np.arange(len(actual))], dtype=np.float)\n",
      "C:\\Users\\ryane\\AppData\\Local\\Temp\\ipykernel_18316\\1342160008.py:6: DeprecationWarning: `np.float` is a deprecated alias for the builtin `float`. To silence this warning, use `float` by itself. Doing this will not modify any behavior and is safe. If you specifically wanted the numpy scalar type, use `np.float64` here.\n",
      "Deprecated in NumPy 1.20; for more details and guidance: https://numpy.org/devdocs/release/1.20.0-notes.html#deprecations\n",
      "  all = np.asarray(np.c_[actual, pred, np.arange(len(actual))], dtype=np.float)\n",
      "C:\\Users\\ryane\\AppData\\Local\\Temp\\ipykernel_18316\\1342160008.py:6: DeprecationWarning: `np.float` is a deprecated alias for the builtin `float`. To silence this warning, use `float` by itself. Doing this will not modify any behavior and is safe. If you specifically wanted the numpy scalar type, use `np.float64` here.\n",
      "Deprecated in NumPy 1.20; for more details and guidance: https://numpy.org/devdocs/release/1.20.0-notes.html#deprecations\n",
      "  all = np.asarray(np.c_[actual, pred, np.arange(len(actual))], dtype=np.float)\n",
      "C:\\Users\\ryane\\AppData\\Local\\Temp\\ipykernel_18316\\1342160008.py:6: DeprecationWarning: `np.float` is a deprecated alias for the builtin `float`. To silence this warning, use `float` by itself. Doing this will not modify any behavior and is safe. If you specifically wanted the numpy scalar type, use `np.float64` here.\n",
      "Deprecated in NumPy 1.20; for more details and guidance: https://numpy.org/devdocs/release/1.20.0-notes.html#deprecations\n",
      "  all = np.asarray(np.c_[actual, pred, np.arange(len(actual))], dtype=np.float)\n",
      "C:\\Users\\ryane\\AppData\\Local\\Temp\\ipykernel_18316\\1342160008.py:6: DeprecationWarning: `np.float` is a deprecated alias for the builtin `float`. To silence this warning, use `float` by itself. Doing this will not modify any behavior and is safe. If you specifically wanted the numpy scalar type, use `np.float64` here.\n",
      "Deprecated in NumPy 1.20; for more details and guidance: https://numpy.org/devdocs/release/1.20.0-notes.html#deprecations\n",
      "  all = np.asarray(np.c_[actual, pred, np.arange(len(actual))], dtype=np.float)\n",
      "C:\\Users\\ryane\\AppData\\Local\\Temp\\ipykernel_18316\\1342160008.py:6: DeprecationWarning: `np.float` is a deprecated alias for the builtin `float`. To silence this warning, use `float` by itself. Doing this will not modify any behavior and is safe. If you specifically wanted the numpy scalar type, use `np.float64` here.\n",
      "Deprecated in NumPy 1.20; for more details and guidance: https://numpy.org/devdocs/release/1.20.0-notes.html#deprecations\n",
      "  all = np.asarray(np.c_[actual, pred, np.arange(len(actual))], dtype=np.float)\n",
      "C:\\Users\\ryane\\AppData\\Local\\Temp\\ipykernel_18316\\1342160008.py:6: DeprecationWarning: `np.float` is a deprecated alias for the builtin `float`. To silence this warning, use `float` by itself. Doing this will not modify any behavior and is safe. If you specifically wanted the numpy scalar type, use `np.float64` here.\n",
      "Deprecated in NumPy 1.20; for more details and guidance: https://numpy.org/devdocs/release/1.20.0-notes.html#deprecations\n",
      "  all = np.asarray(np.c_[actual, pred, np.arange(len(actual))], dtype=np.float)\n",
      "C:\\Users\\ryane\\AppData\\Local\\Temp\\ipykernel_18316\\1342160008.py:6: DeprecationWarning: `np.float` is a deprecated alias for the builtin `float`. To silence this warning, use `float` by itself. Doing this will not modify any behavior and is safe. If you specifically wanted the numpy scalar type, use `np.float64` here.\n",
      "Deprecated in NumPy 1.20; for more details and guidance: https://numpy.org/devdocs/release/1.20.0-notes.html#deprecations\n",
      "  all = np.asarray(np.c_[actual, pred, np.arange(len(actual))], dtype=np.float)\n",
      "C:\\Users\\ryane\\AppData\\Local\\Temp\\ipykernel_18316\\1342160008.py:6: DeprecationWarning: `np.float` is a deprecated alias for the builtin `float`. To silence this warning, use `float` by itself. Doing this will not modify any behavior and is safe. If you specifically wanted the numpy scalar type, use `np.float64` here.\n",
      "Deprecated in NumPy 1.20; for more details and guidance: https://numpy.org/devdocs/release/1.20.0-notes.html#deprecations\n",
      "  all = np.asarray(np.c_[actual, pred, np.arange(len(actual))], dtype=np.float)\n"
     ]
    },
    {
     "name": "stdout",
     "output_type": "stream",
     "text": [
      "Average Gini Coefficient from Cross-Validation: 0.28904236004363915\n"
     ]
    },
    {
     "name": "stderr",
     "output_type": "stream",
     "text": [
      "C:\\Users\\ryane\\AppData\\Local\\Temp\\ipykernel_18316\\1342160008.py:6: DeprecationWarning: `np.float` is a deprecated alias for the builtin `float`. To silence this warning, use `float` by itself. Doing this will not modify any behavior and is safe. If you specifically wanted the numpy scalar type, use `np.float64` here.\n",
      "Deprecated in NumPy 1.20; for more details and guidance: https://numpy.org/devdocs/release/1.20.0-notes.html#deprecations\n",
      "  all = np.asarray(np.c_[actual, pred, np.arange(len(actual))], dtype=np.float)\n"
     ]
    }
   ],
   "source": [
    "from sklearn.model_selection import KFold\n",
    "import numpy as np\n",
    "\n",
    "def gini(actual, pred):\n",
    "    assert len(actual) == len(pred)\n",
    "    all = np.asarray(np.c_[actual, pred, np.arange(len(actual))], dtype=np.float)\n",
    "    all = all[np.lexsort((all[:, 2], -1 * all[:, 1]))]\n",
    "    total_losses = all[:, 0].sum()\n",
    "    gini_sum = all[:, 0].cumsum().sum() / total_losses\n",
    "    gini_sum -= (len(actual) + 1) / 2.\n",
    "    return gini_sum / len(actual)\n",
    "\n",
    "def normalized_gini(actual, pred):\n",
    "    return gini(actual, pred) / gini(actual, actual)\n",
    "\n",
    "# Prepare for cross-validation\n",
    "kf = KFold(n_splits=10, shuffle=True, random_state=1)\n",
    "gini_scores = []\n",
    "\n",
    "for train_index, test_index in kf.split(train_data):\n",
    "    cv_train, cv_test = train_data.iloc[train_index], train_data.iloc[test_index]\n",
    "    \n",
    "    # Fit the model on cv_train\n",
    "    #cv_model = glm(formula, data=cv_train, family=sm.families.Poisson()).fit()\n",
    "    cv_model = glm(formula, data=cv_train).fit()\n",
    "    # Predict on cv_test\n",
    "    predictions = cv_model.predict(cv_test)\n",
    "    \n",
    "    # Compute and store Gini coefficient\n",
    "    gini_score = normalized_gini(cv_test['numclaims'], predictions)\n",
    "    gini_scores.append(gini_score)\n",
    "\n",
    "# Calculate the average Gini coefficient\n",
    "average_gini = np.mean(gini_scores)\n",
    "print(f\"Average Gini Coefficient from Cross-Validation: {average_gini}\")\n"
   ]
  },
  {
   "cell_type": "code",
   "execution_count": 19,
   "metadata": {},
   "outputs": [
    {
     "name": "stdout",
     "output_type": "stream",
     "text": [
      "Average Gini Coefficient from Cross-Validation: 0.28904236004363915\n"
     ]
    }
   ],
   "source": [
    "print(f\"Average Gini Coefficient from Cross-Validation: {average_gini}\")"
   ]
  },
  {
   "cell_type": "code",
   "execution_count": null,
   "metadata": {},
   "outputs": [],
   "source": []
  },
  {
   "cell_type": "code",
   "execution_count": 20,
   "metadata": {},
   "outputs": [
    {
     "name": "stdout",
     "output_type": "stream",
     "text": [
      "Intercept      -2.322846\n",
      "gender[T.M]    -0.077269\n",
      "exposure        1.569166\n",
      "veh_value       0.008341\n",
      "agecat         -0.088220\n",
      "veh_age         0.008628\n",
      "credit_score   -0.001194\n",
      "dtype: float64\n"
     ]
    }
   ],
   "source": [
    "import random\n",
    "\n",
    "def bootstrap_model(data, model_formula, family, R=500):\n",
    "    boot_coefs = []\n",
    "\n",
    "    for _ in range(R):\n",
    "        boot_sample = data.sample(frac=1, replace=True, random_state=random.randint(1, 10000))\n",
    "        boot_model = glm(model_formula, data=boot_sample, family=family).fit()\n",
    "        boot_coefs.append(boot_model.params)\n",
    "\n",
    "    # Convert list of coefficients to DataFrame\n",
    "    boot_coefs_df = pd.DataFrame(boot_coefs)\n",
    "\n",
    "    # Calculate the average coefficients\n",
    "    avg_coefs = boot_coefs_df.mean(axis=0)\n",
    "    return avg_coefs\n",
    "\n",
    "# Apply bootstrapping\n",
    "avg_boot_coefs = bootstrap_model(train_data, formula, sm.families.Poisson(), R=500)\n",
    "print(avg_boot_coefs)\n"
   ]
  },
  {
   "cell_type": "code",
   "execution_count": 21,
   "metadata": {},
   "outputs": [
    {
     "name": "stderr",
     "output_type": "stream",
     "text": [
      "C:\\Users\\ryane\\AppData\\Local\\Temp\\ipykernel_18316\\4054090848.py:12: SettingWithCopyWarning: \n",
      "A value is trying to be set on a copy of a slice from a DataFrame\n",
      "\n",
      "See the caveats in the documentation: https://pandas.pydata.org/pandas-docs/stable/user_guide/indexing.html#returning-a-view-versus-a-copy\n",
      "  output.rename(columns={'predicted_claimcst0': 'Predict'}, inplace=True)\n"
     ]
    }
   ],
   "source": [
    "# Load the vh data\n",
    "vh_data = pd.read_csv('InsNova_data_2023_vh.csv/InsNova_data_2023_vh.csv')\n",
    "# Compute Frequency and Severity predictions\n",
    "# (Replace `frequency_model` and `severity_model` with your actual model objects)\n",
    "vh_data['predicted_frequency'] = frequency_model.predict(vh_data)\n",
    "vh_data['predicted_severity'] = severity_model.predict(vh_data)\n",
    "\n",
    "# Calculate the final claim cost predictions\n",
    "vh_data['predicted_claimcst0'] = vh_data['predicted_frequency'] * vh_data['predicted_severity']\n",
    "# Prepare the output DataFrame\n",
    "output = vh_data[['id', 'predicted_claimcst0']]\n",
    "output.rename(columns={'predicted_claimcst0': 'Predict'}, inplace=True)\n",
    "# Export to CSV\n",
    "# Assigning 0 to negative values of Predict\n",
    "output.loc[output['Predict'] < 0, 'Predict'] = 0\n",
    "output.to_csv('final_predictions7.csv', index=False)\n",
    "\n"
   ]
  }
 ],
 "metadata": {
  "kernelspec": {
   "display_name": "base",
   "language": "python",
   "name": "python3"
  },
  "language_info": {
   "codemirror_mode": {
    "name": "ipython",
    "version": 3
   },
   "file_extension": ".py",
   "mimetype": "text/x-python",
   "name": "python",
   "nbconvert_exporter": "python",
   "pygments_lexer": "ipython3",
   "version": "3.10.9"
  }
 },
 "nbformat": 4,
 "nbformat_minor": 2
}
